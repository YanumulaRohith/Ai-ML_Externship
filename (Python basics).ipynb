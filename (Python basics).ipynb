{
 "cells": [
  {
   "cell_type": "code",
   "execution_count": 1,
   "id": "5a17da08",
   "metadata": {},
   "outputs": [],
   "source": [
    "import keyword"
   ]
  },
  {
   "cell_type": "code",
   "execution_count": 4,
   "id": "efdd52ba",
   "metadata": {},
   "outputs": [
    {
     "name": "stdout",
     "output_type": "stream",
     "text": [
      "['False', 'None', 'True', 'and', 'as', 'assert', 'async', 'await', 'break', 'class', 'continue', 'def', 'del', 'elif', 'else', 'except', 'finally', 'for', 'from', 'global', 'if', 'import', 'in', 'is', 'lambda', 'nonlocal', 'not', 'or', 'pass', 'raise', 'return', 'try', 'while', 'with', 'yield']\n"
     ]
    }
   ],
   "source": [
    "print(keyword.kwlist)"
   ]
  },
  {
   "cell_type": "code",
   "execution_count": 6,
   "id": "9c5a5b0b",
   "metadata": {},
   "outputs": [],
   "source": [
    "string=\"how are you\""
   ]
  },
  {
   "cell_type": "code",
   "execution_count": 7,
   "id": "b42ec5b0",
   "metadata": {},
   "outputs": [
    {
     "data": {
      "text/plain": [
       "['__add__',\n",
       " '__class__',\n",
       " '__contains__',\n",
       " '__delattr__',\n",
       " '__dir__',\n",
       " '__doc__',\n",
       " '__eq__',\n",
       " '__format__',\n",
       " '__ge__',\n",
       " '__getattribute__',\n",
       " '__getitem__',\n",
       " '__getnewargs__',\n",
       " '__getstate__',\n",
       " '__gt__',\n",
       " '__hash__',\n",
       " '__init__',\n",
       " '__init_subclass__',\n",
       " '__iter__',\n",
       " '__le__',\n",
       " '__len__',\n",
       " '__lt__',\n",
       " '__mod__',\n",
       " '__mul__',\n",
       " '__ne__',\n",
       " '__new__',\n",
       " '__reduce__',\n",
       " '__reduce_ex__',\n",
       " '__repr__',\n",
       " '__rmod__',\n",
       " '__rmul__',\n",
       " '__setattr__',\n",
       " '__sizeof__',\n",
       " '__str__',\n",
       " '__subclasshook__',\n",
       " 'capitalize',\n",
       " 'casefold',\n",
       " 'center',\n",
       " 'count',\n",
       " 'encode',\n",
       " 'endswith',\n",
       " 'expandtabs',\n",
       " 'find',\n",
       " 'format',\n",
       " 'format_map',\n",
       " 'index',\n",
       " 'isalnum',\n",
       " 'isalpha',\n",
       " 'isascii',\n",
       " 'isdecimal',\n",
       " 'isdigit',\n",
       " 'isidentifier',\n",
       " 'islower',\n",
       " 'isnumeric',\n",
       " 'isprintable',\n",
       " 'isspace',\n",
       " 'istitle',\n",
       " 'isupper',\n",
       " 'join',\n",
       " 'ljust',\n",
       " 'lower',\n",
       " 'lstrip',\n",
       " 'maketrans',\n",
       " 'partition',\n",
       " 'removeprefix',\n",
       " 'removesuffix',\n",
       " 'replace',\n",
       " 'rfind',\n",
       " 'rindex',\n",
       " 'rjust',\n",
       " 'rpartition',\n",
       " 'rsplit',\n",
       " 'rstrip',\n",
       " 'split',\n",
       " 'splitlines',\n",
       " 'startswith',\n",
       " 'strip',\n",
       " 'swapcase',\n",
       " 'title',\n",
       " 'translate',\n",
       " 'upper',\n",
       " 'zfill']"
      ]
     },
     "execution_count": 7,
     "metadata": {},
     "output_type": "execute_result"
    }
   ],
   "source": [
    "dir(string)"
   ]
  },
  {
   "cell_type": "markdown",
   "id": "d189ea71",
   "metadata": {},
   "source": [
    "mutable=list,dictionary immutable=string,tuple"
   ]
  },
  {
   "cell_type": "markdown",
   "id": "ad52fabd",
   "metadata": {},
   "source": [
    "# 30-08-2023"
   ]
  },
  {
   "cell_type": "code",
   "execution_count": 15,
   "id": "4046e23d",
   "metadata": {},
   "outputs": [
    {
     "data": {
      "text/plain": [
       "'how are you'"
      ]
     },
     "execution_count": 15,
     "metadata": {},
     "output_type": "execute_result"
    }
   ],
   "source": [
    "string[:]"
   ]
  },
  {
   "cell_type": "code",
   "execution_count": 27,
   "id": "e3e5711f",
   "metadata": {},
   "outputs": [],
   "source": [
    "list=[1,2,\"rohith\",\"rohith\"]"
   ]
  },
  {
   "cell_type": "code",
   "execution_count": 28,
   "id": "3fcc32f3",
   "metadata": {},
   "outputs": [
    {
     "data": {
      "text/plain": [
       "[1, 2, 'rohith', 'rohith']"
      ]
     },
     "execution_count": 28,
     "metadata": {},
     "output_type": "execute_result"
    }
   ],
   "source": [
    "list"
   ]
  },
  {
   "cell_type": "code",
   "execution_count": 29,
   "id": "b071619d",
   "metadata": {},
   "outputs": [],
   "source": [
    "list[-1]=\"jamu\""
   ]
  },
  {
   "cell_type": "code",
   "execution_count": 30,
   "id": "11adf67f",
   "metadata": {},
   "outputs": [
    {
     "data": {
      "text/plain": [
       "[1, 2, 'rohith', 'jamu']"
      ]
     },
     "execution_count": 30,
     "metadata": {},
     "output_type": "execute_result"
    }
   ],
   "source": [
    "list"
   ]
  },
  {
   "cell_type": "code",
   "execution_count": 24,
   "id": "efcfc137",
   "metadata": {},
   "outputs": [],
   "source": [
    "tuple=(2,3,\"man\",\"man\")"
   ]
  },
  {
   "cell_type": "code",
   "execution_count": 25,
   "id": "7e012427",
   "metadata": {},
   "outputs": [
    {
     "data": {
      "text/plain": [
       "(2, 3, 'man', 'man')"
      ]
     },
     "execution_count": 25,
     "metadata": {},
     "output_type": "execute_result"
    }
   ],
   "source": [
    "tuple"
   ]
  },
  {
   "cell_type": "code",
   "execution_count": 34,
   "id": "bf719bce",
   "metadata": {},
   "outputs": [
    {
     "data": {
      "text/plain": [
       "['__add__',\n",
       " '__class__',\n",
       " '__class_getitem__',\n",
       " '__contains__',\n",
       " '__delattr__',\n",
       " '__dir__',\n",
       " '__doc__',\n",
       " '__eq__',\n",
       " '__format__',\n",
       " '__ge__',\n",
       " '__getattribute__',\n",
       " '__getitem__',\n",
       " '__getnewargs__',\n",
       " '__getstate__',\n",
       " '__gt__',\n",
       " '__hash__',\n",
       " '__init__',\n",
       " '__init_subclass__',\n",
       " '__iter__',\n",
       " '__le__',\n",
       " '__len__',\n",
       " '__lt__',\n",
       " '__mul__',\n",
       " '__ne__',\n",
       " '__new__',\n",
       " '__reduce__',\n",
       " '__reduce_ex__',\n",
       " '__repr__',\n",
       " '__rmul__',\n",
       " '__setattr__',\n",
       " '__sizeof__',\n",
       " '__str__',\n",
       " '__subclasshook__',\n",
       " 'count',\n",
       " 'index']"
      ]
     },
     "execution_count": 34,
     "metadata": {},
     "output_type": "execute_result"
    }
   ],
   "source": [
    "dir(tuple)"
   ]
  },
  {
   "cell_type": "code",
   "execution_count": 35,
   "id": "ecdc9038",
   "metadata": {},
   "outputs": [],
   "source": [
    "cricket={'captain':'rohith','wicket':'dhoni'}"
   ]
  },
  {
   "cell_type": "code",
   "execution_count": 36,
   "id": "e5496027",
   "metadata": {},
   "outputs": [
    {
     "data": {
      "text/plain": [
       "{'captain': 'rohith', 'wicket': 'dhoni'}"
      ]
     },
     "execution_count": 36,
     "metadata": {},
     "output_type": "execute_result"
    }
   ],
   "source": [
    "cricket     "
   ]
  },
  {
   "cell_type": "code",
   "execution_count": 37,
   "id": "d7ddb272",
   "metadata": {},
   "outputs": [
    {
     "data": {
      "text/plain": [
       "dict"
      ]
     },
     "execution_count": 37,
     "metadata": {},
     "output_type": "execute_result"
    }
   ],
   "source": [
    "type(cricket )"
   ]
  },
  {
   "cell_type": "code",
   "execution_count": 39,
   "id": "aa769370",
   "metadata": {},
   "outputs": [
    {
     "data": {
      "text/plain": [
       "dict_keys(['captain', 'wicket'])"
      ]
     },
     "execution_count": 39,
     "metadata": {},
     "output_type": "execute_result"
    }
   ],
   "source": [
    "cricket.keys()"
   ]
  },
  {
   "cell_type": "code",
   "execution_count": 41,
   "id": "c7063992",
   "metadata": {},
   "outputs": [
    {
     "data": {
      "text/plain": [
       "dict_values(['rohith', 'dhoni'])"
      ]
     },
     "execution_count": 41,
     "metadata": {},
     "output_type": "execute_result"
    }
   ],
   "source": [
    "cricket.values()"
   ]
  },
  {
   "cell_type": "code",
   "execution_count": 43,
   "id": "62625ec3",
   "metadata": {},
   "outputs": [],
   "source": [
    "d={\"emp name\":\"rohith\",\n",
    "  \"salary\":10000,\n",
    "  'experience':6,\n",
    "  'designation':'Data scientist'}"
   ]
  },
  {
   "cell_type": "code",
   "execution_count": 44,
   "id": "5cf96190",
   "metadata": {},
   "outputs": [
    {
     "data": {
      "text/plain": [
       "{'emp name': 'rohith',\n",
       " 'salary': 10000,\n",
       " 'experience': 6,\n",
       " 'designation': 'Data scientist'}"
      ]
     },
     "execution_count": 44,
     "metadata": {},
     "output_type": "execute_result"
    }
   ],
   "source": [
    "d"
   ]
  },
  {
   "cell_type": "code",
   "execution_count": 45,
   "id": "d8480af8",
   "metadata": {},
   "outputs": [
    {
     "data": {
      "text/plain": [
       "'Data scientist'"
      ]
     },
     "execution_count": 45,
     "metadata": {},
     "output_type": "execute_result"
    }
   ],
   "source": [
    "d.pop(\"designation\")"
   ]
  },
  {
   "cell_type": "code",
   "execution_count": 46,
   "id": "a2f3b720",
   "metadata": {},
   "outputs": [
    {
     "data": {
      "text/plain": [
       "{'emp name': 'rohith', 'salary': 10000, 'experience': 6}"
      ]
     },
     "execution_count": 46,
     "metadata": {},
     "output_type": "execute_result"
    }
   ],
   "source": [
    "d"
   ]
  },
  {
   "cell_type": "code",
   "execution_count": 47,
   "id": "4886b4a5",
   "metadata": {},
   "outputs": [
    {
     "data": {
      "text/plain": [
       "dict_items([('emp name', 'rohith'), ('salary', 10000), ('experience', 6)])"
      ]
     },
     "execution_count": 47,
     "metadata": {},
     "output_type": "execute_result"
    }
   ],
   "source": [
    "d.items()"
   ]
  },
  {
   "cell_type": "code",
   "execution_count": 51,
   "id": "570c3d2f",
   "metadata": {},
   "outputs": [],
   "source": [
    "list=[1,22,3.5,[3,4,[{'name':[1,2,{'name1':'tulasi'},{'age':5}]}]]]"
   ]
  },
  {
   "cell_type": "code",
   "execution_count": 52,
   "id": "c86c14b2",
   "metadata": {},
   "outputs": [
    {
     "data": {
      "text/plain": [
       "[3, 4, [{'name': [1, 2, {'name1': 'tulasi'}, {'age': 5}]}]]"
      ]
     },
     "execution_count": 52,
     "metadata": {},
     "output_type": "execute_result"
    }
   ],
   "source": [
    "list[3]"
   ]
  },
  {
   "cell_type": "code",
   "execution_count": 53,
   "id": "37c1db75",
   "metadata": {},
   "outputs": [
    {
     "data": {
      "text/plain": [
       "[{'name': [1, 2, {'name1': 'tulasi'}, {'age': 5}]}]"
      ]
     },
     "execution_count": 53,
     "metadata": {},
     "output_type": "execute_result"
    }
   ],
   "source": [
    "list[3][2]"
   ]
  },
  {
   "cell_type": "code",
   "execution_count": 54,
   "id": "8b829f4f",
   "metadata": {},
   "outputs": [
    {
     "data": {
      "text/plain": [
       "{'name': [1, 2, {'name1': 'tulasi'}, {'age': 5}]}"
      ]
     },
     "execution_count": 54,
     "metadata": {},
     "output_type": "execute_result"
    }
   ],
   "source": [
    "list[3][2][0]"
   ]
  },
  {
   "cell_type": "code",
   "execution_count": 55,
   "id": "b583195a",
   "metadata": {},
   "outputs": [
    {
     "data": {
      "text/plain": [
       "[1, 2, {'name1': 'tulasi'}, {'age': 5}]"
      ]
     },
     "execution_count": 55,
     "metadata": {},
     "output_type": "execute_result"
    }
   ],
   "source": [
    "list[3][2][0]['name']"
   ]
  },
  {
   "cell_type": "code",
   "execution_count": 56,
   "id": "cf92e0a2",
   "metadata": {},
   "outputs": [
    {
     "data": {
      "text/plain": [
       "{'name1': 'tulasi'}"
      ]
     },
     "execution_count": 56,
     "metadata": {},
     "output_type": "execute_result"
    }
   ],
   "source": [
    "list[3][2][0]['name'][2]"
   ]
  },
  {
   "cell_type": "code",
   "execution_count": 57,
   "id": "78aaa63f",
   "metadata": {},
   "outputs": [
    {
     "data": {
      "text/plain": [
       "'tulasi'"
      ]
     },
     "execution_count": 57,
     "metadata": {},
     "output_type": "execute_result"
    }
   ],
   "source": [
    "list[3][2][0]['name'][2]['name1']"
   ]
  },
  {
   "cell_type": "code",
   "execution_count": 58,
   "id": "b10342bf",
   "metadata": {},
   "outputs": [
    {
     "data": {
      "text/plain": [
       "[1, 22, 3.5, [3, 4, [{'name': [1, 2, {'name1': 'tulasi'}, {'age': 5}]}]]]"
      ]
     },
     "execution_count": 58,
     "metadata": {},
     "output_type": "execute_result"
    }
   ],
   "source": [
    "list"
   ]
  },
  {
   "cell_type": "code",
   "execution_count": 60,
   "id": "84cf1a0d",
   "metadata": {},
   "outputs": [
    {
     "data": {
      "text/plain": [
       "5"
      ]
     },
     "execution_count": 60,
     "metadata": {},
     "output_type": "execute_result"
    }
   ],
   "source": [
    "list[3][2][0]['name'][3]['age']"
   ]
  },
  {
   "cell_type": "markdown",
   "id": "78de2e0c",
   "metadata": {},
   "source": [
    "set"
   ]
  },
  {
   "cell_type": "code",
   "execution_count": 62,
   "id": "dcbb915a",
   "metadata": {},
   "outputs": [],
   "source": [
    "s={1,2,3}"
   ]
  },
  {
   "cell_type": "code",
   "execution_count": 63,
   "id": "6e3ec7d8",
   "metadata": {},
   "outputs": [
    {
     "data": {
      "text/plain": [
       "{1, 2, 3}"
      ]
     },
     "execution_count": 63,
     "metadata": {},
     "output_type": "execute_result"
    }
   ],
   "source": [
    "s"
   ]
  },
  {
   "cell_type": "code",
   "execution_count": 64,
   "id": "3ba8ec7b",
   "metadata": {},
   "outputs": [],
   "source": [
    "s={1,2,3,'rohith'} #heterogenous"
   ]
  },
  {
   "cell_type": "code",
   "execution_count": 65,
   "id": "89d6bc07",
   "metadata": {},
   "outputs": [
    {
     "data": {
      "text/plain": [
       "{1, 2, 3, 'rohith'}"
      ]
     },
     "execution_count": 65,
     "metadata": {},
     "output_type": "execute_result"
    }
   ],
   "source": [
    "s"
   ]
  },
  {
   "cell_type": "code",
   "execution_count": 66,
   "id": "57492aae",
   "metadata": {},
   "outputs": [],
   "source": [
    "s.add('vit')#mutable"
   ]
  },
  {
   "cell_type": "code",
   "execution_count": 67,
   "id": "ed36fa0d",
   "metadata": {},
   "outputs": [
    {
     "data": {
      "text/plain": [
       "{1, 2, 3, 'rohith', 'vit'}"
      ]
     },
     "execution_count": 67,
     "metadata": {},
     "output_type": "execute_result"
    }
   ],
   "source": [
    "s"
   ]
  },
  {
   "cell_type": "code",
   "execution_count": 68,
   "id": "30303542",
   "metadata": {},
   "outputs": [
    {
     "ename": "TypeError",
     "evalue": "'set' object is not subscriptable",
     "output_type": "error",
     "traceback": [
      "\u001b[1;31m---------------------------------------------------------------------------\u001b[0m",
      "\u001b[1;31mTypeError\u001b[0m                                 Traceback (most recent call last)",
      "Cell \u001b[1;32mIn[68], line 1\u001b[0m\n\u001b[1;32m----> 1\u001b[0m s[\u001b[38;5;241m1\u001b[39m]\n",
      "\u001b[1;31mTypeError\u001b[0m: 'set' object is not subscriptable"
     ]
    }
   ],
   "source": [
    "s[1] #indexing and slicing is not possible"
   ]
  },
  {
   "cell_type": "code",
   "execution_count": 69,
   "id": "35ed008e",
   "metadata": {},
   "outputs": [],
   "source": [
    "myset={1,2,3}"
   ]
  },
  {
   "cell_type": "code",
   "execution_count": 70,
   "id": "2294c3a0",
   "metadata": {},
   "outputs": [],
   "source": [
    "myset.update([1,2,3])"
   ]
  },
  {
   "cell_type": "code",
   "execution_count": 71,
   "id": "ea8f3218",
   "metadata": {},
   "outputs": [
    {
     "data": {
      "text/plain": [
       "{1, 2, 3}"
      ]
     },
     "execution_count": 71,
     "metadata": {},
     "output_type": "execute_result"
    }
   ],
   "source": [
    "myset #duplication is not possible"
   ]
  },
  {
   "cell_type": "code",
   "execution_count": 72,
   "id": "13be6ca3",
   "metadata": {},
   "outputs": [],
   "source": [
    "myset.discard(3)"
   ]
  },
  {
   "cell_type": "code",
   "execution_count": 73,
   "id": "bf7e86ea",
   "metadata": {},
   "outputs": [
    {
     "data": {
      "text/plain": [
       "{1, 2}"
      ]
     },
     "execution_count": 73,
     "metadata": {},
     "output_type": "execute_result"
    }
   ],
   "source": [
    "myset"
   ]
  },
  {
   "cell_type": "code",
   "execution_count": 74,
   "id": "b5604687",
   "metadata": {},
   "outputs": [],
   "source": [
    "myset.clear()"
   ]
  },
  {
   "cell_type": "code",
   "execution_count": 75,
   "id": "47c4204e",
   "metadata": {},
   "outputs": [
    {
     "data": {
      "text/plain": [
       "set()"
      ]
     },
     "execution_count": 75,
     "metadata": {},
     "output_type": "execute_result"
    }
   ],
   "source": [
    "myset"
   ]
  },
  {
   "cell_type": "code",
   "execution_count": 81,
   "id": "f48b5ddc",
   "metadata": {},
   "outputs": [],
   "source": [
    "a={1,2,3,4}"
   ]
  },
  {
   "cell_type": "code",
   "execution_count": 82,
   "id": "e6ccc33f",
   "metadata": {},
   "outputs": [],
   "source": [
    "a.update([2])"
   ]
  },
  {
   "cell_type": "code",
   "execution_count": 83,
   "id": "c0f55954",
   "metadata": {},
   "outputs": [
    {
     "data": {
      "text/plain": [
       "{1, 2, 3, 4}"
      ]
     },
     "execution_count": 83,
     "metadata": {},
     "output_type": "execute_result"
    }
   ],
   "source": [
    "a"
   ]
  },
  {
   "cell_type": "markdown",
   "id": "bdefbb0a",
   "metadata": {},
   "source": [
    "## conditional statements"
   ]
  },
  {
   "cell_type": "code",
   "execution_count": null,
   "id": "2fb54a37",
   "metadata": {},
   "outputs": [],
   "source": [
    "1.if\n",
    "2.else\n",
    "3.elif\n",
    "4.nested if "
   ]
  },
  {
   "cell_type": "code",
   "execution_count": 85,
   "id": "be1b309e",
   "metadata": {},
   "outputs": [
    {
     "name": "stdout",
     "output_type": "stream",
     "text": [
      "enter valuerohith\n",
      "enter b value12\n"
     ]
    }
   ],
   "source": [
    "a=input(\"enter a value\")\n",
    "b=input('enter b value')"
   ]
  },
  {
   "cell_type": "code",
   "execution_count": 87,
   "id": "bdccbf5d",
   "metadata": {},
   "outputs": [],
   "source": [
    "c=a+b"
   ]
  },
  {
   "cell_type": "code",
   "execution_count": 88,
   "id": "ce29807a",
   "metadata": {},
   "outputs": [
    {
     "data": {
      "text/plain": [
       "'rohith12'"
      ]
     },
     "execution_count": 88,
     "metadata": {},
     "output_type": "execute_result"
    }
   ],
   "source": [
    "c"
   ]
  },
  {
   "cell_type": "code",
   "execution_count": 97,
   "id": "e39ed767",
   "metadata": {},
   "outputs": [
    {
     "name": "stdout",
     "output_type": "stream",
     "text": [
      "enter a value:12\n",
      "enter b value:12\n",
      "a=b: 0\n"
     ]
    }
   ],
   "source": [
    "a=int(input(\"enter a value:\"))\n",
    "b=int(input('enter b value:'))\n",
    "if(a>b):\n",
    "    print(\"a+b:\",a+b)\n",
    "elif(a==b):\n",
    "    print(\"a=b:\",0)\n",
    "else:\n",
    "    print(\"b-a=:\",b-a)"
   ]
  },
  {
   "cell_type": "markdown",
   "id": "1860d21c",
   "metadata": {},
   "source": [
    "# LOOPS"
   ]
  },
  {
   "cell_type": "code",
   "execution_count": null,
   "id": "c58eca17",
   "metadata": {},
   "outputs": [],
   "source": [
    "1.while\n",
    "2.for loop"
   ]
  },
  {
   "cell_type": "markdown",
   "id": "9d98fa38",
   "metadata": {},
   "source": []
  },
  {
   "cell_type": "code",
   "execution_count": 110,
   "id": "dcbdb12d",
   "metadata": {},
   "outputs": [
    {
     "name": "stdout",
     "output_type": "stream",
     "text": [
      "hello 0\n",
      "hello 2\n",
      "hello 4\n",
      "hello 6\n",
      "hello 8\n"
     ]
    }
   ],
   "source": [
    "n=0\n",
    "while n<10:\n",
    "    print(\"hello\",n)\n",
    "    n=n+2"
   ]
  },
  {
   "cell_type": "code",
   "execution_count": 111,
   "id": "232b4f54",
   "metadata": {},
   "outputs": [
    {
     "name": "stdout",
     "output_type": "stream",
     "text": [
      "0\n",
      "1\n",
      "2\n",
      "3\n",
      "4\n",
      "5\n",
      "6\n",
      "7\n",
      "8\n",
      "9\n"
     ]
    }
   ],
   "source": [
    "for i in range(10):\n",
    "    print(i)"
   ]
  },
  {
   "cell_type": "code",
   "execution_count": 112,
   "id": "78085027",
   "metadata": {},
   "outputs": [
    {
     "name": "stdout",
     "output_type": "stream",
     "text": [
      "r\n",
      "o\n",
      "h\n",
      "i\n",
      "t\n",
      "h\n"
     ]
    }
   ],
   "source": [
    "l='rohith'\n",
    "for i in l:\n",
    "    print(i)"
   ]
  },
  {
   "cell_type": "markdown",
   "id": "a15e3121",
   "metadata": {},
   "source": [
    "# break"
   ]
  },
  {
   "cell_type": "code",
   "execution_count": 115,
   "id": "ff69a216",
   "metadata": {},
   "outputs": [
    {
     "name": "stdout",
     "output_type": "stream",
     "text": [
      "s\n",
      "u\n",
      "end\n"
     ]
    }
   ],
   "source": [
    "for i in \"sujatha\":\n",
    "    if i==\"j\":\n",
    "        break\n",
    "    print(i)\n",
    "print(\"end\")"
   ]
  },
  {
   "cell_type": "code",
   "execution_count": 116,
   "id": "e4621a3a",
   "metadata": {},
   "outputs": [
    {
     "name": "stdout",
     "output_type": "stream",
     "text": [
      "s\n",
      "u\n",
      "a\n",
      "t\n",
      "h\n",
      "a\n",
      "end\n"
     ]
    }
   ],
   "source": [
    "for i in \"sujatha\":\n",
    "    if i==\"j\":\n",
    "        continue\n",
    "    print(i)\n",
    "print(\"end\")"
   ]
  },
  {
   "cell_type": "code",
   "execution_count": 117,
   "id": "e8cf3556",
   "metadata": {},
   "outputs": [
    {
     "name": "stdout",
     "output_type": "stream",
     "text": [
      "s\n",
      "u\n",
      "j\n",
      "a\n",
      "t\n",
      "h\n",
      "a\n",
      "end\n"
     ]
    }
   ],
   "source": [
    "for i in \"sujatha\":\n",
    "    if i==\"j\":\n",
    "        pass\n",
    "    print(i)\n",
    "print(\"end\")"
   ]
  },
  {
   "cell_type": "markdown",
   "id": "8c3a4a75",
   "metadata": {},
   "source": [
    "# Functions"
   ]
  },
  {
   "cell_type": "code",
   "execution_count": null,
   "id": "a22455bc",
   "metadata": {},
   "outputs": [],
   "source": [
    "def function_name:\n",
    "    block of codex"
   ]
  },
  {
   "cell_type": "code",
   "execution_count": 118,
   "id": "d27ebd72",
   "metadata": {},
   "outputs": [],
   "source": [
    "def x():\n",
    "    print(\"This is a function\")"
   ]
  },
  {
   "cell_type": "code",
   "execution_count": 119,
   "id": "6e4fa355",
   "metadata": {},
   "outputs": [
    {
     "name": "stdout",
     "output_type": "stream",
     "text": [
      "This is a function\n"
     ]
    }
   ],
   "source": [
    "x()"
   ]
  },
  {
   "cell_type": "code",
   "execution_count": 121,
   "id": "265b8bd4",
   "metadata": {},
   "outputs": [],
   "source": [
    "def x(a,*b):\n",
    "    print(\"a value\",a)\n",
    "    for i in b:\n",
    "        print(\"b value\",i)"
   ]
  },
  {
   "cell_type": "code",
   "execution_count": 122,
   "id": "ef438475",
   "metadata": {},
   "outputs": [
    {
     "name": "stdout",
     "output_type": "stream",
     "text": [
      "a value 1\n",
      "b value 2\n",
      "b value 3\n",
      "b value 4\n",
      "b value 5\n",
      "b value 6\n",
      "b value 7\n"
     ]
    }
   ],
   "source": [
    "x(1,2,3,4,5,6,7)"
   ]
  },
  {
   "cell_type": "code",
   "execution_count": 123,
   "id": "1b35ce23",
   "metadata": {},
   "outputs": [],
   "source": [
    "def x(a=10,b=45):\n",
    "    print(a,b)"
   ]
  },
  {
   "cell_type": "code",
   "execution_count": 127,
   "id": "9b3e39b0",
   "metadata": {},
   "outputs": [
    {
     "name": "stdout",
     "output_type": "stream",
     "text": [
      "1 man\n"
     ]
    }
   ],
   "source": [
    "x(1,\"man\")"
   ]
  },
  {
   "cell_type": "markdown",
   "id": "db93b465",
   "metadata": {},
   "source": [
    "# EXCEPTION HANDLING"
   ]
  },
  {
   "cell_type": "code",
   "execution_count": 130,
   "id": "cfbdf3c6",
   "metadata": {},
   "outputs": [
    {
     "name": "stdout",
     "output_type": "stream",
     "text": [
      "divide by zero exception\n",
      "normal flow\n"
     ]
    }
   ],
   "source": [
    "try:\n",
    "    print(10/0)\n",
    "except:\n",
    "    print(\"divide by zero exception\")\n",
    "print(\"normal flow\")"
   ]
  },
  {
   "cell_type": "code",
   "execution_count": 137,
   "id": "fe759e05",
   "metadata": {},
   "outputs": [
    {
     "name": "stdout",
     "output_type": "stream",
     "text": [
      "division by zero\n",
      "finally is correct\n"
     ]
    }
   ],
   "source": [
    "try:\n",
    "    a=[1,2,3,4]\n",
    "    b=10/0\n",
    "    #print(a[5])\n",
    "    2+'2'\n",
    "except Exception as e :\n",
    "    print(e)\n",
    "#print(\"normal flow\")\n",
    "finally:\n",
    "    print(\"finally is correct\")"
   ]
  }
 ],
 "metadata": {
  "kernelspec": {
   "display_name": "Python 3 (ipykernel)",
   "language": "python",
   "name": "python3"
  },
  "language_info": {
   "codemirror_mode": {
    "name": "ipython",
    "version": 3
   },
   "file_extension": ".py",
   "mimetype": "text/x-python",
   "name": "python",
   "nbconvert_exporter": "python",
   "pygments_lexer": "ipython3",
   "version": "3.11.3"
  }
 },
 "nbformat": 4,
 "nbformat_minor": 5
}
